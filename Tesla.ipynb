{
 "cells": [
  {
   "cell_type": "code",
   "execution_count": 2,
   "id": "d7305227",
   "metadata": {},
   "outputs": [],
   "source": [
    "import pandas as pd\n",
    "import numpy as np\n",
    "import matplotlib.pyplot as plt\n",
    "\n",
    "\n",
    "from datetime import datetime\n",
    "from keras.models import Sequential\n",
    "from keras.layers import Dense, LSTM, Dropout, GRU\n",
    "from keras.layers import *\n",
    "from sklearn.preprocessing import MinMaxScaler\n",
    "from sklearn.metrics import mean_squared_error, mean_absolute_error\n",
    "from sklearn.model_selection import train_test_split\n",
    "from keras.callbacks import EarlyStopping\n",
    "from keras.optimizers import adam_v2"
   ]
  },
  {
   "cell_type": "code",
   "execution_count": 4,
   "id": "2fd6b437",
   "metadata": {},
   "outputs": [
    {
     "data": {
      "text/html": [
       "<div>\n",
       "<style scoped>\n",
       "    .dataframe tbody tr th:only-of-type {\n",
       "        vertical-align: middle;\n",
       "    }\n",
       "\n",
       "    .dataframe tbody tr th {\n",
       "        vertical-align: top;\n",
       "    }\n",
       "\n",
       "    .dataframe thead th {\n",
       "        text-align: right;\n",
       "    }\n",
       "</style>\n",
       "<table border=\"1\" class=\"dataframe\">\n",
       "  <thead>\n",
       "    <tr style=\"text-align: right;\">\n",
       "      <th></th>\n",
       "      <th>Date</th>\n",
       "      <th>Price</th>\n",
       "      <th>Open</th>\n",
       "      <th>Max</th>\n",
       "      <th>Min</th>\n",
       "    </tr>\n",
       "  </thead>\n",
       "  <tbody>\n",
       "    <tr>\n",
       "      <th>0</th>\n",
       "      <td>22.10.2020</td>\n",
       "      <td>425.79</td>\n",
       "      <td>442.15</td>\n",
       "      <td>444.74</td>\n",
       "      <td>424.72</td>\n",
       "    </tr>\n",
       "    <tr>\n",
       "      <th>1</th>\n",
       "      <td>21.10.2020</td>\n",
       "      <td>422.64</td>\n",
       "      <td>423.25</td>\n",
       "      <td>432.90</td>\n",
       "      <td>421.25</td>\n",
       "    </tr>\n",
       "    <tr>\n",
       "      <th>2</th>\n",
       "      <td>20.10.2020</td>\n",
       "      <td>421.94</td>\n",
       "      <td>430.91</td>\n",
       "      <td>430.91</td>\n",
       "      <td>419.10</td>\n",
       "    </tr>\n",
       "    <tr>\n",
       "      <th>3</th>\n",
       "      <td>19.10.2020</td>\n",
       "      <td>430.83</td>\n",
       "      <td>445.74</td>\n",
       "      <td>446.60</td>\n",
       "      <td>428.93</td>\n",
       "    </tr>\n",
       "    <tr>\n",
       "      <th>4</th>\n",
       "      <td>16.10.2020</td>\n",
       "      <td>439.67</td>\n",
       "      <td>454.44</td>\n",
       "      <td>455.95</td>\n",
       "      <td>438.85</td>\n",
       "    </tr>\n",
       "    <tr>\n",
       "      <th>...</th>\n",
       "      <td>...</td>\n",
       "      <td>...</td>\n",
       "      <td>...</td>\n",
       "      <td>...</td>\n",
       "      <td>...</td>\n",
       "    </tr>\n",
       "    <tr>\n",
       "      <th>1923</th>\n",
       "      <td>07.03.2013</td>\n",
       "      <td>7.65</td>\n",
       "      <td>7.55</td>\n",
       "      <td>7.73</td>\n",
       "      <td>7.38</td>\n",
       "    </tr>\n",
       "    <tr>\n",
       "      <th>1924</th>\n",
       "      <td>06.03.2013</td>\n",
       "      <td>7.54</td>\n",
       "      <td>7.40</td>\n",
       "      <td>7.58</td>\n",
       "      <td>7.39</td>\n",
       "    </tr>\n",
       "    <tr>\n",
       "      <th>1925</th>\n",
       "      <td>05.03.2013</td>\n",
       "      <td>7.33</td>\n",
       "      <td>7.20</td>\n",
       "      <td>7.38</td>\n",
       "      <td>7.16</td>\n",
       "    </tr>\n",
       "    <tr>\n",
       "      <th>1926</th>\n",
       "      <td>04.03.2013</td>\n",
       "      <td>7.12</td>\n",
       "      <td>6.95</td>\n",
       "      <td>7.17</td>\n",
       "      <td>6.94</td>\n",
       "    </tr>\n",
       "    <tr>\n",
       "      <th>1927</th>\n",
       "      <td>01.03.2013</td>\n",
       "      <td>6.93</td>\n",
       "      <td>7.00</td>\n",
       "      <td>7.20</td>\n",
       "      <td>6.85</td>\n",
       "    </tr>\n",
       "  </tbody>\n",
       "</table>\n",
       "<p>1928 rows × 5 columns</p>\n",
       "</div>"
      ],
      "text/plain": [
       "            Date   Price    Open     Max     Min\n",
       "0     22.10.2020  425.79  442.15  444.74  424.72\n",
       "1     21.10.2020  422.64  423.25  432.90  421.25\n",
       "2     20.10.2020  421.94  430.91  430.91  419.10\n",
       "3     19.10.2020  430.83  445.74  446.60  428.93\n",
       "4     16.10.2020  439.67  454.44  455.95  438.85\n",
       "...          ...     ...     ...     ...     ...\n",
       "1923  07.03.2013    7.65    7.55    7.73    7.38\n",
       "1924  06.03.2013    7.54    7.40    7.58    7.39\n",
       "1925  05.03.2013    7.33    7.20    7.38    7.16\n",
       "1926  04.03.2013    7.12    6.95    7.17    6.94\n",
       "1927  01.03.2013    6.93    7.00    7.20    6.85\n",
       "\n",
       "[1928 rows x 5 columns]"
      ]
     },
     "execution_count": 4,
     "metadata": {},
     "output_type": "execute_result"
    }
   ],
   "source": [
    "df=pd.read_csv(r'C:\\Users\\79375\\Desktop\\DS\\Tesla Stock\\Price_Tesla.csv', sep=';')\n",
    "df"
   ]
  },
  {
   "cell_type": "code",
   "execution_count": 5,
   "id": "5f433ff4",
   "metadata": {},
   "outputs": [],
   "source": [
    "# df['Date']=pd.to_datetime(df['Date'])"
   ]
  },
  {
   "cell_type": "code",
   "execution_count": 6,
   "id": "86fb5f72",
   "metadata": {},
   "outputs": [],
   "source": [
    "def to_datetime(df):\n",
    "    date=datetime.strptime(df, '%d.%m.%Y')\n",
    "    return date.strftime('%Y-%m-%d')"
   ]
  },
  {
   "cell_type": "code",
   "execution_count": 7,
   "id": "048359c6",
   "metadata": {},
   "outputs": [],
   "source": [
    "df['Date']=df['Date'].apply(lambda x: to_datetime(x))"
   ]
  },
  {
   "cell_type": "code",
   "execution_count": 8,
   "id": "4fd4c850",
   "metadata": {},
   "outputs": [],
   "source": [
    "df=df.sort_values('Date').reset_index(drop=True)"
   ]
  },
  {
   "cell_type": "code",
   "execution_count": 9,
   "id": "c434e584",
   "metadata": {},
   "outputs": [
    {
     "data": {
      "text/html": [
       "<div>\n",
       "<style scoped>\n",
       "    .dataframe tbody tr th:only-of-type {\n",
       "        vertical-align: middle;\n",
       "    }\n",
       "\n",
       "    .dataframe tbody tr th {\n",
       "        vertical-align: top;\n",
       "    }\n",
       "\n",
       "    .dataframe thead th {\n",
       "        text-align: right;\n",
       "    }\n",
       "</style>\n",
       "<table border=\"1\" class=\"dataframe\">\n",
       "  <thead>\n",
       "    <tr style=\"text-align: right;\">\n",
       "      <th></th>\n",
       "      <th>Date</th>\n",
       "      <th>Price</th>\n",
       "      <th>Open</th>\n",
       "      <th>Max</th>\n",
       "      <th>Min</th>\n",
       "    </tr>\n",
       "  </thead>\n",
       "  <tbody>\n",
       "    <tr>\n",
       "      <th>0</th>\n",
       "      <td>2013-03-01</td>\n",
       "      <td>6.93</td>\n",
       "      <td>7.00</td>\n",
       "      <td>7.20</td>\n",
       "      <td>6.85</td>\n",
       "    </tr>\n",
       "    <tr>\n",
       "      <th>1</th>\n",
       "      <td>2013-03-04</td>\n",
       "      <td>7.12</td>\n",
       "      <td>6.95</td>\n",
       "      <td>7.17</td>\n",
       "      <td>6.94</td>\n",
       "    </tr>\n",
       "    <tr>\n",
       "      <th>2</th>\n",
       "      <td>2013-03-05</td>\n",
       "      <td>7.33</td>\n",
       "      <td>7.20</td>\n",
       "      <td>7.38</td>\n",
       "      <td>7.16</td>\n",
       "    </tr>\n",
       "    <tr>\n",
       "      <th>3</th>\n",
       "      <td>2013-03-06</td>\n",
       "      <td>7.54</td>\n",
       "      <td>7.40</td>\n",
       "      <td>7.58</td>\n",
       "      <td>7.39</td>\n",
       "    </tr>\n",
       "    <tr>\n",
       "      <th>4</th>\n",
       "      <td>2013-03-07</td>\n",
       "      <td>7.65</td>\n",
       "      <td>7.55</td>\n",
       "      <td>7.73</td>\n",
       "      <td>7.38</td>\n",
       "    </tr>\n",
       "    <tr>\n",
       "      <th>5</th>\n",
       "      <td>2013-03-08</td>\n",
       "      <td>7.69</td>\n",
       "      <td>7.61</td>\n",
       "      <td>7.89</td>\n",
       "      <td>7.47</td>\n",
       "    </tr>\n",
       "    <tr>\n",
       "      <th>6</th>\n",
       "      <td>2013-03-11</td>\n",
       "      <td>7.82</td>\n",
       "      <td>7.77</td>\n",
       "      <td>7.89</td>\n",
       "      <td>7.73</td>\n",
       "    </tr>\n",
       "    <tr>\n",
       "      <th>7</th>\n",
       "      <td>2013-03-12</td>\n",
       "      <td>7.82</td>\n",
       "      <td>7.78</td>\n",
       "      <td>7.88</td>\n",
       "      <td>7.77</td>\n",
       "    </tr>\n",
       "    <tr>\n",
       "      <th>8</th>\n",
       "      <td>2013-03-13</td>\n",
       "      <td>7.80</td>\n",
       "      <td>7.80</td>\n",
       "      <td>7.90</td>\n",
       "      <td>7.76</td>\n",
       "    </tr>\n",
       "    <tr>\n",
       "      <th>9</th>\n",
       "      <td>2013-03-14</td>\n",
       "      <td>7.37</td>\n",
       "      <td>7.78</td>\n",
       "      <td>7.78</td>\n",
       "      <td>7.35</td>\n",
       "    </tr>\n",
       "  </tbody>\n",
       "</table>\n",
       "</div>"
      ],
      "text/plain": [
       "         Date  Price  Open   Max   Min\n",
       "0  2013-03-01   6.93  7.00  7.20  6.85\n",
       "1  2013-03-04   7.12  6.95  7.17  6.94\n",
       "2  2013-03-05   7.33  7.20  7.38  7.16\n",
       "3  2013-03-06   7.54  7.40  7.58  7.39\n",
       "4  2013-03-07   7.65  7.55  7.73  7.38\n",
       "5  2013-03-08   7.69  7.61  7.89  7.47\n",
       "6  2013-03-11   7.82  7.77  7.89  7.73\n",
       "7  2013-03-12   7.82  7.78  7.88  7.77\n",
       "8  2013-03-13   7.80  7.80  7.90  7.76\n",
       "9  2013-03-14   7.37  7.78  7.78  7.35"
      ]
     },
     "execution_count": 9,
     "metadata": {},
     "output_type": "execute_result"
    }
   ],
   "source": [
    "df.head(10)"
   ]
  },
  {
   "cell_type": "code",
   "execution_count": 10,
   "id": "76d5b4b8",
   "metadata": {},
   "outputs": [],
   "source": [
    "num_shape=1900\n",
    "\n",
    "train=df.iloc[:num_shape,1:2].values\n",
    "test=df.iloc[num_shape:,1:2].values"
   ]
  },
  {
   "cell_type": "code",
   "execution_count": 11,
   "id": "caa2a196",
   "metadata": {},
   "outputs": [],
   "source": [
    "sc=MinMaxScaler(feature_range=(0,1))\n",
    "train_scaled=sc.fit_transform(train)"
   ]
  },
  {
   "cell_type": "code",
   "execution_count": 12,
   "id": "8ec16fcf",
   "metadata": {},
   "outputs": [],
   "source": [
    "X_train = []\n",
    "\n",
    "#Price on next day\n",
    "y_train = []\n",
    "\n",
    "window = 60\n",
    "\n",
    "for i in range(window, num_shape):\n",
    "    X_train_ = np.reshape(train_scaled[i-window:i, 0], (window, 1))\n",
    "    X_train.append(X_train_)\n",
    "    y_train.append(train_scaled[i, 0])\n",
    "X_train = np.stack(X_train)\n",
    "y_train = np.stack(y_train)   "
   ]
  },
  {
   "cell_type": "code",
   "execution_count": 13,
   "id": "c650d877",
   "metadata": {},
   "outputs": [
    {
     "name": "stdout",
     "output_type": "stream",
     "text": [
      "Model: \"sequential\"\n",
      "_________________________________________________________________\n",
      " Layer (type)                Output Shape              Param #   \n",
      "=================================================================\n",
      " lstm (LSTM)                 (None, 60, 50)            10400     \n",
      "                                                                 \n",
      " dropout (Dropout)           (None, 60, 50)            0         \n",
      "                                                                 \n",
      " lstm_1 (LSTM)               (None, 60, 50)            20200     \n",
      "                                                                 \n",
      " dropout_1 (Dropout)         (None, 60, 50)            0         \n",
      "                                                                 \n",
      " lstm_2 (LSTM)               (None, 60, 50)            20200     \n",
      "                                                                 \n",
      " dropout_2 (Dropout)         (None, 60, 50)            0         \n",
      "                                                                 \n",
      " lstm_3 (LSTM)               (None, 50)                20200     \n",
      "                                                                 \n",
      " dropout_3 (Dropout)         (None, 50)                0         \n",
      "                                                                 \n",
      " dense (Dense)               (None, 1)                 51        \n",
      "                                                                 \n",
      "=================================================================\n",
      "Total params: 71,051\n",
      "Trainable params: 71,051\n",
      "Non-trainable params: 0\n",
      "_________________________________________________________________\n"
     ]
    }
   ],
   "source": [
    "model = Sequential()\n",
    "\n",
    "\n",
    "model.add(LSTM(units = 50, return_sequences = True, input_shape = (X_train.shape[1], 1)))\n",
    "model.add(Dropout(0.2))\n",
    "\n",
    "model.add(LSTM(units = 50, return_sequences = True))\n",
    "model.add(Dropout(0.2))\n",
    "\n",
    "model.add(LSTM(units = 50, return_sequences = True))\n",
    "model.add(Dropout(0.2))\n",
    "\n",
    "model.add(LSTM(units = 50))\n",
    "model.add(Dropout(0.2))\n",
    "\n",
    "# Adding the output layer\n",
    "model.add(Dense(units = 1))\n",
    "model.summary()"
   ]
  },
  {
   "cell_type": "code",
   "execution_count": 15,
   "id": "a9f77e97",
   "metadata": {
    "scrolled": true
   },
   "outputs": [
    {
     "name": "stdout",
     "output_type": "stream",
     "text": [
      "Epoch 1/1000\n",
      "58/58 [==============================] - 10s 64ms/step - loss: 6.5412e-04 - mean_squared_error: 6.5412e-04\n",
      "Epoch 2/1000\n",
      "58/58 [==============================] - 4s 62ms/step - loss: 5.8248e-04 - mean_squared_error: 5.8248e-04\n",
      "Epoch 3/1000\n",
      "58/58 [==============================] - 4s 62ms/step - loss: 6.0164e-04 - mean_squared_error: 6.0164e-04A: 0s - loss: 6.0902e-04 - me\n",
      "Epoch 4/1000\n",
      "58/58 [==============================] - 4s 62ms/step - loss: 5.4438e-04 - mean_squared_error: 5.4438e-04\n",
      "Epoch 5/1000\n",
      "58/58 [==============================] - 4s 70ms/step - loss: 5.5469e-04 - mean_squared_error: 5.5469e-04\n",
      "Epoch 6/1000\n",
      "58/58 [==============================] - 4s 68ms/step - loss: 6.7293e-04 - mean_squared_error: 6.7293e-04\n",
      "Epoch 7/1000\n",
      "58/58 [==============================] - 4s 70ms/step - loss: 6.8999e-04 - mean_squared_error: 6.8999e-04\n",
      "Epoch 8/1000\n",
      "58/58 [==============================] - 4s 68ms/step - loss: 7.3402e-04 - mean_squared_error: 7.3402e-04\n",
      "Epoch 9/1000\n",
      "58/58 [==============================] - 4s 67ms/step - loss: 5.6668e-04 - mean_squared_error: 5.6668e-04\n",
      "Epoch 10/1000\n",
      "58/58 [==============================] - 4s 65ms/step - loss: 5.2326e-04 - mean_squared_error: 5.2326e-04\n",
      "Epoch 11/1000\n",
      "58/58 [==============================] - 3s 59ms/step - loss: 5.7072e-04 - mean_squared_error: 5.7072e-04\n",
      "Epoch 12/1000\n",
      "58/58 [==============================] - 3s 59ms/step - loss: 5.4583e-04 - mean_squared_error: 5.4583e-04\n",
      "Epoch 13/1000\n",
      "58/58 [==============================] - 4s 71ms/step - loss: 5.3525e-04 - mean_squared_error: 5.3525e-04\n",
      "Epoch 14/1000\n",
      "58/58 [==============================] - 3s 60ms/step - loss: 5.5097e-04 - mean_squared_error: 5.5097e-04\n",
      "Epoch 15/1000\n",
      "58/58 [==============================] - 4s 67ms/step - loss: 4.1950e-04 - mean_squared_error: 4.1950e-04\n",
      "Epoch 16/1000\n",
      "58/58 [==============================] - 4s 71ms/step - loss: 4.7400e-04 - mean_squared_error: 4.7400e-04 1s - loss: 5.3485e-04 \n",
      "Epoch 17/1000\n",
      "58/58 [==============================] - 4s 74ms/step - loss: 4.8319e-04 - mean_squared_error: 4.8319e-04 0s - loss: 4.9514e-04 - mean_squared_e\n",
      "Epoch 18/1000\n",
      "58/58 [==============================] - 4s 68ms/step - loss: 4.8001e-04 - mean_squared_error: 4.8001e-04\n",
      "Epoch 19/1000\n",
      "58/58 [==============================] - 4s 68ms/step - loss: 4.1937e-04 - mean_squared_error: 4.1937e-04\n",
      "Epoch 20/1000\n",
      "58/58 [==============================] - 4s 65ms/step - loss: 4.3598e-04 - mean_squared_error: 4.3598e-04\n",
      "Epoch 21/1000\n",
      "58/58 [==============================] - 4s 77ms/step - loss: 4.6940e-04 - mean_squared_error: 4.6940e-04\n",
      "Epoch 22/1000\n",
      "58/58 [==============================] - 4s 71ms/step - loss: 4.7216e-04 - mean_squared_error: 4.7216e-04 1s -\n",
      "Epoch 23/1000\n",
      "58/58 [==============================] - 4s 70ms/step - loss: 5.3010e-04 - mean_squared_error: 5.3010e-04\n",
      "Epoch 24/1000\n",
      "58/58 [==============================] - 4s 66ms/step - loss: 5.0918e-04 - mean_squared_error: 5.0918e-04\n",
      "Epoch 25/1000\n",
      "58/58 [==============================] - 4s 67ms/step - loss: 5.1295e-04 - mean_squared_error: 5.1295e-04\n",
      "Epoch 26/1000\n",
      "58/58 [==============================] - 4s 65ms/step - loss: 4.3982e-04 - mean_squared_error: 4.3982e-04 1s -\n",
      "Epoch 27/1000\n",
      "58/58 [==============================] - 4s 65ms/step - loss: 5.5102e-04 - mean_squared_error: 5.5102e-04\n",
      "Epoch 28/1000\n",
      "58/58 [==============================] - 4s 68ms/step - loss: 5.7305e-04 - mean_squared_error: 5.7305e-04\n",
      "Epoch 29/1000\n",
      "58/58 [==============================] - 4s 70ms/step - loss: 5.0560e-04 - mean_squared_error: 5.0560e-04 1s\n",
      "Epoch 30/1000\n",
      "58/58 [==============================] - 4s 73ms/step - loss: 4.7437e-04 - mean_squared_error: 4.7437e-04\n",
      "Epoch 31/1000\n",
      "58/58 [==============================] - 4s 76ms/step - loss: 5.3614e-04 - mean_squared_error: 5.3614e-04\n",
      "Epoch 32/1000\n",
      "58/58 [==============================] - 4s 76ms/step - loss: 5.7036e-04 - mean_squared_error: 5.7036e-04\n",
      "Epoch 33/1000\n",
      "20/58 [=========>....................] - ETA: 2s - loss: 3.1913e-04 - mean_squared_error: 3.1913e-04"
     ]
    },
    {
     "ename": "KeyboardInterrupt",
     "evalue": "",
     "output_type": "error",
     "traceback": [
      "\u001b[1;31m---------------------------------------------------------------------------\u001b[0m",
      "\u001b[1;31mKeyboardInterrupt\u001b[0m                         Traceback (most recent call last)",
      "\u001b[1;32m<ipython-input-15-2288ae5998dc>\u001b[0m in \u001b[0;36m<module>\u001b[1;34m\u001b[0m\n\u001b[0;32m      1\u001b[0m \u001b[0mmodel\u001b[0m\u001b[1;33m.\u001b[0m\u001b[0mcompile\u001b[0m\u001b[1;33m(\u001b[0m\u001b[0moptimizer\u001b[0m\u001b[1;33m=\u001b[0m\u001b[1;34m'adam'\u001b[0m\u001b[1;33m,\u001b[0m\u001b[0mloss\u001b[0m\u001b[1;33m=\u001b[0m\u001b[1;34m'mean_squared_error'\u001b[0m\u001b[1;33m,\u001b[0m\u001b[0mmetrics\u001b[0m\u001b[1;33m=\u001b[0m\u001b[1;33m[\u001b[0m\u001b[1;34m'MeanSquaredError'\u001b[0m\u001b[1;33m]\u001b[0m\u001b[1;33m)\u001b[0m\u001b[1;33m\u001b[0m\u001b[1;33m\u001b[0m\u001b[0m\n\u001b[1;32m----> 2\u001b[1;33m \u001b[0mmodel\u001b[0m\u001b[1;33m.\u001b[0m\u001b[0mfit\u001b[0m\u001b[1;33m(\u001b[0m\u001b[0mX_train\u001b[0m\u001b[1;33m,\u001b[0m\u001b[0my_train\u001b[0m\u001b[1;33m,\u001b[0m\u001b[0mepochs\u001b[0m\u001b[1;33m=\u001b[0m\u001b[1;36m1000\u001b[0m\u001b[1;33m,\u001b[0m\u001b[0mbatch_size\u001b[0m\u001b[1;33m=\u001b[0m\u001b[1;36m32\u001b[0m\u001b[1;33m)\u001b[0m\u001b[1;33m\u001b[0m\u001b[1;33m\u001b[0m\u001b[0m\n\u001b[0m",
      "\u001b[1;32mD:\\Anaconda\\lib\\site-packages\\keras\\utils\\traceback_utils.py\u001b[0m in \u001b[0;36merror_handler\u001b[1;34m(*args, **kwargs)\u001b[0m\n\u001b[0;32m     62\u001b[0m     \u001b[0mfiltered_tb\u001b[0m \u001b[1;33m=\u001b[0m \u001b[1;32mNone\u001b[0m\u001b[1;33m\u001b[0m\u001b[1;33m\u001b[0m\u001b[0m\n\u001b[0;32m     63\u001b[0m     \u001b[1;32mtry\u001b[0m\u001b[1;33m:\u001b[0m\u001b[1;33m\u001b[0m\u001b[1;33m\u001b[0m\u001b[0m\n\u001b[1;32m---> 64\u001b[1;33m       \u001b[1;32mreturn\u001b[0m \u001b[0mfn\u001b[0m\u001b[1;33m(\u001b[0m\u001b[1;33m*\u001b[0m\u001b[0margs\u001b[0m\u001b[1;33m,\u001b[0m \u001b[1;33m**\u001b[0m\u001b[0mkwargs\u001b[0m\u001b[1;33m)\u001b[0m\u001b[1;33m\u001b[0m\u001b[1;33m\u001b[0m\u001b[0m\n\u001b[0m\u001b[0;32m     65\u001b[0m     \u001b[1;32mexcept\u001b[0m \u001b[0mException\u001b[0m \u001b[1;32mas\u001b[0m \u001b[0me\u001b[0m\u001b[1;33m:\u001b[0m  \u001b[1;31m# pylint: disable=broad-except\u001b[0m\u001b[1;33m\u001b[0m\u001b[1;33m\u001b[0m\u001b[0m\n\u001b[0;32m     66\u001b[0m       \u001b[0mfiltered_tb\u001b[0m \u001b[1;33m=\u001b[0m \u001b[0m_process_traceback_frames\u001b[0m\u001b[1;33m(\u001b[0m\u001b[0me\u001b[0m\u001b[1;33m.\u001b[0m\u001b[0m__traceback__\u001b[0m\u001b[1;33m)\u001b[0m\u001b[1;33m\u001b[0m\u001b[1;33m\u001b[0m\u001b[0m\n",
      "\u001b[1;32mD:\\Anaconda\\lib\\site-packages\\keras\\engine\\training.py\u001b[0m in \u001b[0;36mfit\u001b[1;34m(self, x, y, batch_size, epochs, verbose, callbacks, validation_split, validation_data, shuffle, class_weight, sample_weight, initial_epoch, steps_per_epoch, validation_steps, validation_batch_size, validation_freq, max_queue_size, workers, use_multiprocessing)\u001b[0m\n\u001b[0;32m   1214\u001b[0m                 _r=1):\n\u001b[0;32m   1215\u001b[0m               \u001b[0mcallbacks\u001b[0m\u001b[1;33m.\u001b[0m\u001b[0mon_train_batch_begin\u001b[0m\u001b[1;33m(\u001b[0m\u001b[0mstep\u001b[0m\u001b[1;33m)\u001b[0m\u001b[1;33m\u001b[0m\u001b[1;33m\u001b[0m\u001b[0m\n\u001b[1;32m-> 1216\u001b[1;33m               \u001b[0mtmp_logs\u001b[0m \u001b[1;33m=\u001b[0m \u001b[0mself\u001b[0m\u001b[1;33m.\u001b[0m\u001b[0mtrain_function\u001b[0m\u001b[1;33m(\u001b[0m\u001b[0miterator\u001b[0m\u001b[1;33m)\u001b[0m\u001b[1;33m\u001b[0m\u001b[1;33m\u001b[0m\u001b[0m\n\u001b[0m\u001b[0;32m   1217\u001b[0m               \u001b[1;32mif\u001b[0m \u001b[0mdata_handler\u001b[0m\u001b[1;33m.\u001b[0m\u001b[0mshould_sync\u001b[0m\u001b[1;33m:\u001b[0m\u001b[1;33m\u001b[0m\u001b[1;33m\u001b[0m\u001b[0m\n\u001b[0;32m   1218\u001b[0m                 \u001b[0mcontext\u001b[0m\u001b[1;33m.\u001b[0m\u001b[0masync_wait\u001b[0m\u001b[1;33m(\u001b[0m\u001b[1;33m)\u001b[0m\u001b[1;33m\u001b[0m\u001b[1;33m\u001b[0m\u001b[0m\n",
      "\u001b[1;32mD:\\Anaconda\\lib\\site-packages\\tensorflow\\python\\util\\traceback_utils.py\u001b[0m in \u001b[0;36merror_handler\u001b[1;34m(*args, **kwargs)\u001b[0m\n\u001b[0;32m    148\u001b[0m     \u001b[0mfiltered_tb\u001b[0m \u001b[1;33m=\u001b[0m \u001b[1;32mNone\u001b[0m\u001b[1;33m\u001b[0m\u001b[1;33m\u001b[0m\u001b[0m\n\u001b[0;32m    149\u001b[0m     \u001b[1;32mtry\u001b[0m\u001b[1;33m:\u001b[0m\u001b[1;33m\u001b[0m\u001b[1;33m\u001b[0m\u001b[0m\n\u001b[1;32m--> 150\u001b[1;33m       \u001b[1;32mreturn\u001b[0m \u001b[0mfn\u001b[0m\u001b[1;33m(\u001b[0m\u001b[1;33m*\u001b[0m\u001b[0margs\u001b[0m\u001b[1;33m,\u001b[0m \u001b[1;33m**\u001b[0m\u001b[0mkwargs\u001b[0m\u001b[1;33m)\u001b[0m\u001b[1;33m\u001b[0m\u001b[1;33m\u001b[0m\u001b[0m\n\u001b[0m\u001b[0;32m    151\u001b[0m     \u001b[1;32mexcept\u001b[0m \u001b[0mException\u001b[0m \u001b[1;32mas\u001b[0m \u001b[0me\u001b[0m\u001b[1;33m:\u001b[0m\u001b[1;33m\u001b[0m\u001b[1;33m\u001b[0m\u001b[0m\n\u001b[0;32m    152\u001b[0m       \u001b[0mfiltered_tb\u001b[0m \u001b[1;33m=\u001b[0m \u001b[0m_process_traceback_frames\u001b[0m\u001b[1;33m(\u001b[0m\u001b[0me\u001b[0m\u001b[1;33m.\u001b[0m\u001b[0m__traceback__\u001b[0m\u001b[1;33m)\u001b[0m\u001b[1;33m\u001b[0m\u001b[1;33m\u001b[0m\u001b[0m\n",
      "\u001b[1;32mD:\\Anaconda\\lib\\site-packages\\tensorflow\\python\\eager\\def_function.py\u001b[0m in \u001b[0;36m__call__\u001b[1;34m(self, *args, **kwds)\u001b[0m\n\u001b[0;32m    908\u001b[0m \u001b[1;33m\u001b[0m\u001b[0m\n\u001b[0;32m    909\u001b[0m       \u001b[1;32mwith\u001b[0m \u001b[0mOptionalXlaContext\u001b[0m\u001b[1;33m(\u001b[0m\u001b[0mself\u001b[0m\u001b[1;33m.\u001b[0m\u001b[0m_jit_compile\u001b[0m\u001b[1;33m)\u001b[0m\u001b[1;33m:\u001b[0m\u001b[1;33m\u001b[0m\u001b[1;33m\u001b[0m\u001b[0m\n\u001b[1;32m--> 910\u001b[1;33m         \u001b[0mresult\u001b[0m \u001b[1;33m=\u001b[0m \u001b[0mself\u001b[0m\u001b[1;33m.\u001b[0m\u001b[0m_call\u001b[0m\u001b[1;33m(\u001b[0m\u001b[1;33m*\u001b[0m\u001b[0margs\u001b[0m\u001b[1;33m,\u001b[0m \u001b[1;33m**\u001b[0m\u001b[0mkwds\u001b[0m\u001b[1;33m)\u001b[0m\u001b[1;33m\u001b[0m\u001b[1;33m\u001b[0m\u001b[0m\n\u001b[0m\u001b[0;32m    911\u001b[0m \u001b[1;33m\u001b[0m\u001b[0m\n\u001b[0;32m    912\u001b[0m       \u001b[0mnew_tracing_count\u001b[0m \u001b[1;33m=\u001b[0m \u001b[0mself\u001b[0m\u001b[1;33m.\u001b[0m\u001b[0mexperimental_get_tracing_count\u001b[0m\u001b[1;33m(\u001b[0m\u001b[1;33m)\u001b[0m\u001b[1;33m\u001b[0m\u001b[1;33m\u001b[0m\u001b[0m\n",
      "\u001b[1;32mD:\\Anaconda\\lib\\site-packages\\tensorflow\\python\\eager\\def_function.py\u001b[0m in \u001b[0;36m_call\u001b[1;34m(self, *args, **kwds)\u001b[0m\n\u001b[0;32m    940\u001b[0m       \u001b[1;31m# In this case we have created variables on the first call, so we run the\u001b[0m\u001b[1;33m\u001b[0m\u001b[1;33m\u001b[0m\u001b[1;33m\u001b[0m\u001b[0m\n\u001b[0;32m    941\u001b[0m       \u001b[1;31m# defunned version which is guaranteed to never create variables.\u001b[0m\u001b[1;33m\u001b[0m\u001b[1;33m\u001b[0m\u001b[1;33m\u001b[0m\u001b[0m\n\u001b[1;32m--> 942\u001b[1;33m       \u001b[1;32mreturn\u001b[0m \u001b[0mself\u001b[0m\u001b[1;33m.\u001b[0m\u001b[0m_stateless_fn\u001b[0m\u001b[1;33m(\u001b[0m\u001b[1;33m*\u001b[0m\u001b[0margs\u001b[0m\u001b[1;33m,\u001b[0m \u001b[1;33m**\u001b[0m\u001b[0mkwds\u001b[0m\u001b[1;33m)\u001b[0m  \u001b[1;31m# pylint: disable=not-callable\u001b[0m\u001b[1;33m\u001b[0m\u001b[1;33m\u001b[0m\u001b[0m\n\u001b[0m\u001b[0;32m    943\u001b[0m     \u001b[1;32melif\u001b[0m \u001b[0mself\u001b[0m\u001b[1;33m.\u001b[0m\u001b[0m_stateful_fn\u001b[0m \u001b[1;32mis\u001b[0m \u001b[1;32mnot\u001b[0m \u001b[1;32mNone\u001b[0m\u001b[1;33m:\u001b[0m\u001b[1;33m\u001b[0m\u001b[1;33m\u001b[0m\u001b[0m\n\u001b[0;32m    944\u001b[0m       \u001b[1;31m# Release the lock early so that multiple threads can perform the call\u001b[0m\u001b[1;33m\u001b[0m\u001b[1;33m\u001b[0m\u001b[1;33m\u001b[0m\u001b[0m\n",
      "\u001b[1;32mD:\\Anaconda\\lib\\site-packages\\tensorflow\\python\\eager\\function.py\u001b[0m in \u001b[0;36m__call__\u001b[1;34m(self, *args, **kwargs)\u001b[0m\n\u001b[0;32m   3128\u001b[0m       (graph_function,\n\u001b[0;32m   3129\u001b[0m        filtered_flat_args) = self._maybe_define_function(args, kwargs)\n\u001b[1;32m-> 3130\u001b[1;33m     return graph_function._call_flat(\n\u001b[0m\u001b[0;32m   3131\u001b[0m         filtered_flat_args, captured_inputs=graph_function.captured_inputs)  # pylint: disable=protected-access\n\u001b[0;32m   3132\u001b[0m \u001b[1;33m\u001b[0m\u001b[0m\n",
      "\u001b[1;32mD:\\Anaconda\\lib\\site-packages\\tensorflow\\python\\eager\\function.py\u001b[0m in \u001b[0;36m_call_flat\u001b[1;34m(self, args, captured_inputs, cancellation_manager)\u001b[0m\n\u001b[0;32m   1957\u001b[0m         and executing_eagerly):\n\u001b[0;32m   1958\u001b[0m       \u001b[1;31m# No tape is watching; skip to running the function.\u001b[0m\u001b[1;33m\u001b[0m\u001b[1;33m\u001b[0m\u001b[1;33m\u001b[0m\u001b[0m\n\u001b[1;32m-> 1959\u001b[1;33m       return self._build_call_outputs(self._inference_function.call(\n\u001b[0m\u001b[0;32m   1960\u001b[0m           ctx, args, cancellation_manager=cancellation_manager))\n\u001b[0;32m   1961\u001b[0m     forward_backward = self._select_forward_and_backward_functions(\n",
      "\u001b[1;32mD:\\Anaconda\\lib\\site-packages\\tensorflow\\python\\eager\\function.py\u001b[0m in \u001b[0;36mcall\u001b[1;34m(self, ctx, args, cancellation_manager)\u001b[0m\n\u001b[0;32m    596\u001b[0m       \u001b[1;32mwith\u001b[0m \u001b[0m_InterpolateFunctionError\u001b[0m\u001b[1;33m(\u001b[0m\u001b[0mself\u001b[0m\u001b[1;33m)\u001b[0m\u001b[1;33m:\u001b[0m\u001b[1;33m\u001b[0m\u001b[1;33m\u001b[0m\u001b[0m\n\u001b[0;32m    597\u001b[0m         \u001b[1;32mif\u001b[0m \u001b[0mcancellation_manager\u001b[0m \u001b[1;32mis\u001b[0m \u001b[1;32mNone\u001b[0m\u001b[1;33m:\u001b[0m\u001b[1;33m\u001b[0m\u001b[1;33m\u001b[0m\u001b[0m\n\u001b[1;32m--> 598\u001b[1;33m           outputs = execute.execute(\n\u001b[0m\u001b[0;32m    599\u001b[0m               \u001b[0mstr\u001b[0m\u001b[1;33m(\u001b[0m\u001b[0mself\u001b[0m\u001b[1;33m.\u001b[0m\u001b[0msignature\u001b[0m\u001b[1;33m.\u001b[0m\u001b[0mname\u001b[0m\u001b[1;33m)\u001b[0m\u001b[1;33m,\u001b[0m\u001b[1;33m\u001b[0m\u001b[1;33m\u001b[0m\u001b[0m\n\u001b[0;32m    600\u001b[0m               \u001b[0mnum_outputs\u001b[0m\u001b[1;33m=\u001b[0m\u001b[0mself\u001b[0m\u001b[1;33m.\u001b[0m\u001b[0m_num_outputs\u001b[0m\u001b[1;33m,\u001b[0m\u001b[1;33m\u001b[0m\u001b[1;33m\u001b[0m\u001b[0m\n",
      "\u001b[1;32mD:\\Anaconda\\lib\\site-packages\\tensorflow\\python\\eager\\execute.py\u001b[0m in \u001b[0;36mquick_execute\u001b[1;34m(op_name, num_outputs, inputs, attrs, ctx, name)\u001b[0m\n\u001b[0;32m     56\u001b[0m   \u001b[1;32mtry\u001b[0m\u001b[1;33m:\u001b[0m\u001b[1;33m\u001b[0m\u001b[1;33m\u001b[0m\u001b[0m\n\u001b[0;32m     57\u001b[0m     \u001b[0mctx\u001b[0m\u001b[1;33m.\u001b[0m\u001b[0mensure_initialized\u001b[0m\u001b[1;33m(\u001b[0m\u001b[1;33m)\u001b[0m\u001b[1;33m\u001b[0m\u001b[1;33m\u001b[0m\u001b[0m\n\u001b[1;32m---> 58\u001b[1;33m     tensors = pywrap_tfe.TFE_Py_Execute(ctx._handle, device_name, op_name,\n\u001b[0m\u001b[0;32m     59\u001b[0m                                         inputs, attrs, num_outputs)\n\u001b[0;32m     60\u001b[0m   \u001b[1;32mexcept\u001b[0m \u001b[0mcore\u001b[0m\u001b[1;33m.\u001b[0m\u001b[0m_NotOkStatusException\u001b[0m \u001b[1;32mas\u001b[0m \u001b[0me\u001b[0m\u001b[1;33m:\u001b[0m\u001b[1;33m\u001b[0m\u001b[1;33m\u001b[0m\u001b[0m\n",
      "\u001b[1;31mKeyboardInterrupt\u001b[0m: "
     ]
    }
   ],
   "source": [
    "model.compile(optimizer='adam',loss='mean_squared_error',metrics=['MeanSquaredError'])\n",
    "model.fit(X_train,y_train,epochs=1000,batch_size=32)"
   ]
  },
  {
   "cell_type": "code",
   "execution_count": 31,
   "id": "a401ebb6",
   "metadata": {},
   "outputs": [],
   "source": [
    "df_volume = np.vstack((train, test))\n",
    "\n",
    "inputs = df_volume[df_volume.shape[0] - test.shape[0] - window:]\n",
    "inputs = inputs.reshape(-1,1)\n",
    "inputs = sc.transform(inputs)\n",
    "\n",
    "num_2 = df_volume.shape[0] - num_shape + window\n",
    "\n",
    "X_test = []\n",
    "\n",
    "for i in range(window, num_2):\n",
    "    X_test_ = np.reshape(inputs[i-window:i, 0], (window, 1))\n",
    "    X_test.append(X_test_)\n",
    "    \n",
    "X_test = np.stack(X_test)"
   ]
  },
  {
   "cell_type": "code",
   "execution_count": 32,
   "id": "99c0f99d",
   "metadata": {},
   "outputs": [],
   "source": [
    "predict = model.predict(X_test)\n",
    "predict = sc.inverse_transform(predict)"
   ]
  },
  {
   "cell_type": "code",
   "execution_count": 39,
   "id": "d7f7df40",
   "metadata": {},
   "outputs": [
    {
     "name": "stdout",
     "output_type": "stream",
     "text": [
      "MSE: 5016.3558021794515\n",
      "MAE: 63.19550127301898\n",
      "RMSE: 70.82623667949224\n"
     ]
    }
   ],
   "source": [
    "diff=predict-test\n",
    "\n",
    "print(\"MSE:\", np.mean(diff**2))\n",
    "print('MAE:',np.mean(abs(diff)))\n",
    "print(\"RMSE:\",np.sqrt(np.mean(diff**2)))\n"
   ]
  },
  {
   "cell_type": "code",
   "execution_count": 44,
   "id": "00043620",
   "metadata": {},
   "outputs": [
    {
     "data": {
      "image/png": "[encoded data removed]",
      "text/plain": [
       "<Figure size 1440x504 with 1 Axes>"
      ]
     },
     "metadata": {
      "needs_background": "light"
     },
     "output_type": "display_data"
    }
   ],
   "source": [
    "plt.figure(figsize=(20,7))\n",
    "plt.plot(df['Date'].values[1800:], df_volume[1800:], color = 'red', label = 'Real Tesla Stock Price')\n",
    "plt.plot(df['Date'][-predict.shape[0]:].values, predict, color = 'blue', label = 'Predicted Tesla Stock Price')\n",
    "plt.xticks(np.arange(100,df[1800:].shape[0],200))\n",
    "plt.title('Tesla Stock Price Prediction')\n",
    "plt.xlabel('Date')\n",
    "plt.ylabel('Price ($)')\n",
    "plt.legend()\n",
    "plt.show()"
   ]
  },
  {
   "cell_type": "code",
   "execution_count": 45,
   "id": "1ab165be",
   "metadata": {},
   "outputs": [],
   "source": [
    "pred_ = predict[-1].copy()\n",
    "prediction_full = []\n",
    "window = 60\n",
    "df_copy = df.iloc[:, 1:2][1:].values\n",
    "\n",
    "for j in range(20):\n",
    "    df_ = np.vstack((df_copy, pred_))\n",
    "    train_ = df_[:num_shape]\n",
    "    test_ = df_[num_shape:]\n",
    "    \n",
    "    df_volume_ = np.vstack((train_, test_))\n",
    "\n",
    "    inputs_ = df_volume_[df_volume_.shape[0] - test_.shape[0] - window:]\n",
    "    inputs_ = inputs_.reshape(-1,1)\n",
    "    inputs_ = sc.transform(inputs_)\n",
    "\n",
    "    X_test_2 = []\n",
    "\n",
    "    for k in range(window, num_2):\n",
    "        X_test_3 = np.reshape(inputs_[k-window:k, 0], (window, 1))\n",
    "        X_test_2.append(X_test_3)\n",
    "\n",
    "    X_test_ = np.stack(X_test_2)\n",
    "    predict_ = model.predict(X_test_)\n",
    "    pred_ = sc.inverse_transform(predict_)\n",
    "    prediction_full.append(pred_[-1][0])\n",
    "    df_copy = df_[j:]"
   ]
  },
  {
   "cell_type": "code",
   "execution_count": 46,
   "id": "062f0d6f",
   "metadata": {},
   "outputs": [],
   "source": [
    "prediction_full_new = np.vstack((predict, np.array(prediction_full).reshape(-1,1)))"
   ]
  },
  {
   "cell_type": "code",
   "execution_count": 47,
   "id": "40392dbc",
   "metadata": {},
   "outputs": [],
   "source": [
    "df_date = df[['Date']]\n",
    "\n",
    "for h in range(20):\n",
    "    df_date_add = pd.to_datetime(df_date['Date'].iloc[-1]) + pd.DateOffset(days=1)\n",
    "    df_date_add = pd.DataFrame([df_date_add.strftime(\"%Y-%m-%d\")], columns=['Date'])\n",
    "    df_date = df_date.append(df_date_add)\n",
    "df_date = df_date.reset_index(drop=True)"
   ]
  },
  {
   "cell_type": "code",
   "execution_count": 48,
   "id": "8caed657",
   "metadata": {},
   "outputs": [
    {
     "data": {
      "image/png": "[encoded data removed]",
      "text/plain": [
       "<Figure size 1440x504 with 1 Axes>"
      ]
     },
     "metadata": {
      "needs_background": "light"
     },
     "output_type": "display_data"
    }
   ],
   "source": [
    "plt.figure(figsize=(20,7))\n",
    "plt.plot(df['Date'].values[1700:], df_volume[1700:], color = 'red', label = 'Real Tesla Stock Price')\n",
    "plt.plot(df_date['Date'][-prediction_full_new.shape[0]:].values, prediction_full_new, color = 'blue', label = 'Predicted Tesla Stock Price')\n",
    "plt.xticks(np.arange(100,df[1700:].shape[0],200))\n",
    "plt.title('Tesla Stock Price Prediction')\n",
    "plt.xlabel('Date')\n",
    "plt.ylabel('Price ($)')\n",
    "plt.legend()\n",
    "plt.show()"
   ]
  },
  {
   "cell_type": "code",
   "execution_count": null,
   "id": "de03c9b9",
   "metadata": {},
   "outputs": [],
   "source": []
  }
 ],
 "metadata": {
  "kernelspec": {
   "display_name": "Python 3",
   "language": "python",
   "name": "python3"
  },
  "language_info": {
   "codemirror_mode": {
    "name": "ipython",
    "version": 3
   },
   "file_extension": ".py",
   "mimetype": "text/x-python",
   "name": "python",
   "nbconvert_exporter": "python",
   "pygments_lexer": "ipython3",
   "version": "3.8.8"
  }
 },
 "nbformat": 4,
 "nbformat_minor": 5
}
